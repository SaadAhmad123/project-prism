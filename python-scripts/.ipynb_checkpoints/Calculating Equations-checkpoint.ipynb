{
 "cells": [
  {
   "cell_type": "code",
   "execution_count": 51,
   "metadata": {},
   "outputs": [],
   "source": [
    "PARAMS = [\n",
    "    {'y1' : 0.0, 'x1' : 15.0, 'y2' : 27.5, 'x2' : 50.0, 'x_lmts' : [15,50], 'name' : 'Age (Years)'},\n",
    "    {'y1' : 0.0, 'x1' : 40.0, 'y2' : 26.0, 'x2' : 150.0, 'x_lmts' : [40,150], 'name' : 'Weight (Kg)'},\n",
    "    {'y1' : 0.0, 'x1' : 170.0, 'y2' : 51.0, 'x2' : 70.0, 'x_lmts' : [70,170], 'name' : 'Haemoglobin (g/L)'},\n",
    "    {'y1' : 0.0, 'x1' : 24.0, 'y2' : 25.0, 'x2' : 2.0, 'x_lmts' : [2,24], 'name' : 'Platelets (x30,000)'},\n",
    "    {'y1' : 15.0, 'x1' : 1500.0, 'y2' : 100.0, 'x2' : 5500.0, 'x_lmts' : [1500,55000], 'name' : 'Neonatal Weight (Nulliparous)'},\n",
    "]"
   ]
  },
  {
   "cell_type": "code",
   "execution_count": 52,
   "metadata": {},
   "outputs": [],
   "source": [
    "# The equation of line\n",
    "# y = mx + c\n",
    "#\n",
    "# m = (y1 - y2) / (x1 - x2)\n",
    "# c = y1 - [{(y1 - y2) / (x1 - x2)} * x1]"
   ]
  },
  {
   "cell_type": "code",
   "execution_count": 53,
   "metadata": {},
   "outputs": [],
   "source": [
    "def calM (ARGS):\n",
    "    M = (ARGS['y1'] - ARGS['y2']) / (ARGS['x1'] - ARGS['x2'])\n",
    "    return M"
   ]
  },
  {
   "cell_type": "code",
   "execution_count": 54,
   "metadata": {},
   "outputs": [],
   "source": [
    "def calC (ARGS):\n",
    "    C = ARGS['y1'] - ((ARGS['y1'] - ARGS['y2']) / (ARGS['x1'] - ARGS['x2']) * ARGS['x1'])\n",
    "    return C"
   ]
  },
  {
   "cell_type": "code",
   "execution_count": 55,
   "metadata": {},
   "outputs": [],
   "source": [
    "def printEqu(ARGS):\n",
    "    x = \"----- Equations -----\" \n",
    "    x += \"\\n\" + str(ARGS['y1']) + ' = m * ' + str(ARGS['x1']) + ' + c'\n",
    "    x += \"\\n\" + str(ARGS['y2']) + ' = m * ' + str(ARGS['x2']) + ' + c'\n",
    "    x += \"\\n---------------------\"\n",
    "    return x"
   ]
  },
  {
   "cell_type": "code",
   "execution_count": 56,
   "metadata": {},
   "outputs": [],
   "source": [
    "'''\n",
    "    This code is used to plot the equations\n",
    "'''\n",
    "\n",
    "import matplotlib.pyplot as plt \n",
    "import numpy as np\n",
    "\n",
    "\n",
    "def calLinEquation(m, c, x_lmts):\n",
    "    x = np.linspace(x_lmts[0], x_lmts[1], 1000);\n",
    "    m = np.asarray(m, dtype='float64')\n",
    "    c = np.asarray(c, dtype='float64')\n",
    "    y = m * x + c\n",
    "    return (x, y);\n",
    "    \n",
    "def plotEquation(m, c, x_lmts, name):\n",
    "    x, y = calLinEquation(m,c,x_lmts);\n",
    "    #print(x)\n",
    "    plt.figure()\n",
    "    plt.plot(x, y);\n",
    "    plt.xlabel(name);\n",
    "    plt.ylabel('points')\n",
    "    plt.show();\n"
   ]
  },
  {
   "cell_type": "code",
   "execution_count": 62,
   "metadata": {},
   "outputs": [
    {
     "name": "stdout",
     "output_type": "stream",
     "text": [
      "Age (Years) --> y = 0.7857142857142857x + -11.785714285714285\n",
      "\n",
      "Weight (Kg) --> y = 0.23636363636363636x + -9.454545454545455\n",
      "\n",
      "Haemoglobin (g/L) --> y = -0.51x + 86.7\n",
      "\n",
      "Platelets (x30,000) --> y = -1.1363636363636365x + 27.272727272727273\n",
      "\n",
      "Neonatal Weight (Nulliparous) --> y = 0.02125x + -16.875000000000004\n",
      "\n"
     ]
    }
   ],
   "source": [
    "for i in PARAMS:\n",
    "    m = calM(i)\n",
    "    c = calC(i)\n",
    "    m = str(m)\n",
    "    c = str(c)\n",
    "#    print (printEqu(i))\n",
    "    print(i['name'] + ' --> y = ' + m + 'x + ' + c)\n",
    "    print()\n",
    "#    plotEquation(m,c,i['x_lmts'], i['name'])"
   ]
  },
  {
   "cell_type": "code",
   "execution_count": null,
   "metadata": {},
   "outputs": [],
   "source": []
  },
  {
   "cell_type": "code",
   "execution_count": null,
   "metadata": {},
   "outputs": [],
   "source": []
  }
 ],
 "metadata": {
  "kernelspec": {
   "display_name": "Python 3",
   "language": "python",
   "name": "python3"
  },
  "language_info": {
   "codemirror_mode": {
    "name": "ipython",
    "version": 3
   },
   "file_extension": ".py",
   "mimetype": "text/x-python",
   "name": "python",
   "nbconvert_exporter": "python",
   "pygments_lexer": "ipython3",
   "version": "3.7.4"
  }
 },
 "nbformat": 4,
 "nbformat_minor": 2
}
